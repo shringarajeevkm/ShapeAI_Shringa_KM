{
  "nbformat": 4,
  "nbformat_minor": 0,
  "metadata": {
    "colab": {
      "name": "Shringa KM.ipynb",
      "provenance": []
    },
    "kernelspec": {
      "name": "python3",
      "display_name": "Python 3"
    },
    "language_info": {
      "name": "python"
    }
  },
  "cells": [
    {
      "cell_type": "code",
      "metadata": {
        "colab": {
          "base_uri": "https://localhost:8080/"
        },
        "id": "WUshRdRzEhxW",
        "outputId": "e782a212-406e-458b-9c6c-5de165237d50"
      },
      "source": [
        "from keras.datasets import mnist\n",
        "data = mnist.load_data()\n"
      ],
      "execution_count": 2,
      "outputs": [
        {
          "output_type": "stream",
          "text": [
            "Downloading data from https://storage.googleapis.com/tensorflow/tf-keras-datasets/mnist.npz\n",
            "11493376/11490434 [==============================] - 0s 0us/step\n"
          ],
          "name": "stdout"
        }
      ]
    },
    {
      "cell_type": "code",
      "metadata": {
        "id": "t2KA2yePUKFX"
      },
      "source": [
        "((X_train,Y_train),(X_test,Y_test))=data\n"
      ],
      "execution_count": 4,
      "outputs": []
    },
    {
      "cell_type": "code",
      "metadata": {
        "id": "Pbb09NSKUnjK"
      },
      "source": [
        "X_train=X_train.reshape((X_train.shape[0],28*28)).astype('float32')\n",
        "X_test=X_test.reshape((X_test.shape[0],28*28)).astype('float32')\n",
        "\n"
      ],
      "execution_count": 5,
      "outputs": []
    },
    {
      "cell_type": "code",
      "metadata": {
        "id": "6Ub9P4JOVrJF"
      },
      "source": [
        "X_train=X_train/255\n",
        "X_test=X_test/255"
      ],
      "execution_count": 6,
      "outputs": []
    },
    {
      "cell_type": "code",
      "metadata": {
        "colab": {
          "base_uri": "https://localhost:8080/"
        },
        "id": "YTnd_5ezV3mq",
        "outputId": "238f8947-790c-4e90-8dcd-b6dc6bc95659"
      },
      "source": [
        "from keras.utils import np_utils\n",
        "print(Y_test.shape)\n",
        "Y_train=np_utils.to_categorical(Y_train)\n",
        "Y_test=np_utils.to_categorical(Y_test)\n",
        "\n",
        "num_classes=Y_test.shape[1]\n",
        "print(Y_test.shape)\n"
      ],
      "execution_count": 7,
      "outputs": [
        {
          "output_type": "stream",
          "text": [
            "(10000,)\n",
            "(10000, 10)\n"
          ],
          "name": "stdout"
        }
      ]
    },
    {
      "cell_type": "code",
      "metadata": {
        "id": "nXFANj9-Xp1I"
      },
      "source": [
        "from keras.models import Sequential\n",
        "from keras.layers import Dense"
      ],
      "execution_count": 8,
      "outputs": []
    },
    {
      "cell_type": "code",
      "metadata": {
        "id": "Z0md8YskX5bd"
      },
      "source": [
        "model=Sequential()\n",
        "model.add(Dense(32,input_dim=28*28, activation='relu'))\n",
        "model.add(Dense(64,activation='relu'))\n",
        "model.add(Dense(10,activation='softmax'))\n"
      ],
      "execution_count": 10,
      "outputs": []
    },
    {
      "cell_type": "code",
      "metadata": {
        "id": "jVS-96qKYnBb"
      },
      "source": [
        "model.compile(loss='categorical_crossentropy',optimizer='adam' ,metrics=['accuracy'])"
      ],
      "execution_count": 11,
      "outputs": []
    },
    {
      "cell_type": "code",
      "metadata": {
        "colab": {
          "base_uri": "https://localhost:8080/"
        },
        "id": "twLW4rHNZCNt",
        "outputId": "ce8dbd1a-d41f-45dd-ebb5-7930690b658f"
      },
      "source": [
        "model.summary()"
      ],
      "execution_count": 12,
      "outputs": [
        {
          "output_type": "stream",
          "text": [
            "Model: \"sequential\"\n",
            "_________________________________________________________________\n",
            "Layer (type)                 Output Shape              Param #   \n",
            "=================================================================\n",
            "dense (Dense)                (None, 32)                25120     \n",
            "_________________________________________________________________\n",
            "dense_1 (Dense)              (None, 64)                2112      \n",
            "_________________________________________________________________\n",
            "dense_2 (Dense)              (None, 10)                650       \n",
            "=================================================================\n",
            "Total params: 27,882\n",
            "Trainable params: 27,882\n",
            "Non-trainable params: 0\n",
            "_________________________________________________________________\n"
          ],
          "name": "stdout"
        }
      ]
    },
    {
      "cell_type": "code",
      "metadata": {
        "colab": {
          "base_uri": "https://localhost:8080/"
        },
        "id": "pnyEvNUBbpK0",
        "outputId": "6618a877-295d-45ed-8d20-a93e87e9d14b"
      },
      "source": [
        "model.fit(X_train,Y_train,validation_split=0.2,epochs=10,batch_size=100)"
      ],
      "execution_count": 13,
      "outputs": [
        {
          "output_type": "stream",
          "text": [
            "Epoch 1/10\n",
            "480/480 [==============================] - 3s 4ms/step - loss: 0.8850 - accuracy: 0.7441 - val_loss: 0.2492 - val_accuracy: 0.9267\n",
            "Epoch 2/10\n",
            "480/480 [==============================] - 1s 3ms/step - loss: 0.2366 - accuracy: 0.9306 - val_loss: 0.1943 - val_accuracy: 0.9442\n",
            "Epoch 3/10\n",
            "480/480 [==============================] - 1s 3ms/step - loss: 0.1790 - accuracy: 0.9471 - val_loss: 0.1663 - val_accuracy: 0.9513\n",
            "Epoch 4/10\n",
            "480/480 [==============================] - 2s 3ms/step - loss: 0.1445 - accuracy: 0.9578 - val_loss: 0.1510 - val_accuracy: 0.9554\n",
            "Epoch 5/10\n",
            "480/480 [==============================] - 2s 3ms/step - loss: 0.1233 - accuracy: 0.9627 - val_loss: 0.1348 - val_accuracy: 0.9593\n",
            "Epoch 6/10\n",
            "480/480 [==============================] - 1s 3ms/step - loss: 0.1093 - accuracy: 0.9671 - val_loss: 0.1431 - val_accuracy: 0.9573\n",
            "Epoch 7/10\n",
            "480/480 [==============================] - 1s 3ms/step - loss: 0.0963 - accuracy: 0.9717 - val_loss: 0.1300 - val_accuracy: 0.9630\n",
            "Epoch 8/10\n",
            "480/480 [==============================] - 1s 3ms/step - loss: 0.0907 - accuracy: 0.9722 - val_loss: 0.1224 - val_accuracy: 0.9631\n",
            "Epoch 9/10\n",
            "480/480 [==============================] - 1s 3ms/step - loss: 0.0788 - accuracy: 0.9772 - val_loss: 0.1235 - val_accuracy: 0.9631\n",
            "Epoch 10/10\n",
            "480/480 [==============================] - 1s 3ms/step - loss: 0.0711 - accuracy: 0.9784 - val_loss: 0.1195 - val_accuracy: 0.9643\n"
          ],
          "name": "stdout"
        },
        {
          "output_type": "execute_result",
          "data": {
            "text/plain": [
              "<tensorflow.python.keras.callbacks.History at 0x7fb301b0fcd0>"
            ]
          },
          "metadata": {
            "tags": []
          },
          "execution_count": 13
        }
      ]
    },
    {
      "cell_type": "code",
      "metadata": {
        "colab": {
          "base_uri": "https://localhost:8080/"
        },
        "id": "s_VYl3WPcnvs",
        "outputId": "435f0256-2b8e-4791-cf25-b367696a8347"
      },
      "source": [
        "scores=model.evaluate(X_test,Y_test)\n",
        "print(scores)"
      ],
      "execution_count": 14,
      "outputs": [
        {
          "output_type": "stream",
          "text": [
            "313/313 [==============================] - 1s 2ms/step - loss: 0.1125 - accuracy: 0.9661\n",
            "[0.11247938126325607, 0.9660999774932861]\n"
          ],
          "name": "stdout"
        }
      ]
    }
  ]
}